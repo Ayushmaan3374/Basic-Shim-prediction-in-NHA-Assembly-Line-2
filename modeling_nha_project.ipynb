{
 "cells": [
  {
   "cell_type": "markdown",
   "id": "763d8de8",
   "metadata": {},
   "source": [
    "## Librarires"
   ]
  },
  {
   "cell_type": "code",
   "execution_count": 1,
   "id": "96c975a8",
   "metadata": {},
   "outputs": [],
   "source": [
    "import pandas as pd\n",
    "import numpy as np\n",
    "import seaborn as sns\n",
    "from xgboost import XGBRegressor\n",
    "from sklearn.model_selection import train_test_split,cross_val_score\n",
    "from sklearn.metrics import mean_squared_error,r2_score\n",
    "from catboost import CatBoostRegressor\n",
    "from lightgbm import LGBMRegressor\n",
    "from sklearn.model_selection import GridSearchCV\n",
    "from sklearn.model_selection import RandomizedSearchCV\n",
    "from datetime import date\n",
    "from sklearn.preprocessing import StandardScaler\n",
    "import joblib"
   ]
  },
  {
   "cell_type": "code",
   "execution_count": 2,
   "id": "eb892a21",
   "metadata": {},
   "outputs": [],
   "source": [
    "df = pd.read_csv(\"NHA_training_data.csv\")"
   ]
  },
  {
   "cell_type": "code",
   "execution_count": 3,
   "id": "6ecea1ae",
   "metadata": {},
   "outputs": [],
   "source": [
    "df.drop(columns=[\"Unnamed: 0\"],axis=1,inplace=True)\n",
    "df.fillna(df.median(numeric_only=True),inplace=True)"
   ]
  },
  {
   "cell_type": "code",
   "execution_count": 4,
   "id": "9137288c",
   "metadata": {},
   "outputs": [
    {
     "data": {
      "text/html": [
       "<div>\n",
       "<style scoped>\n",
       "    .dataframe tbody tr th:only-of-type {\n",
       "        vertical-align: middle;\n",
       "    }\n",
       "\n",
       "    .dataframe tbody tr th {\n",
       "        vertical-align: top;\n",
       "    }\n",
       "\n",
       "    .dataframe thead th {\n",
       "        text-align: right;\n",
       "    }\n",
       "</style>\n",
       "<table border=\"1\" class=\"dataframe\">\n",
       "  <thead>\n",
       "    <tr style=\"text-align: right;\">\n",
       "      <th></th>\n",
       "      <th>count</th>\n",
       "      <th>mean</th>\n",
       "      <th>std</th>\n",
       "      <th>min</th>\n",
       "      <th>25%</th>\n",
       "      <th>50%</th>\n",
       "      <th>75%</th>\n",
       "      <th>max</th>\n",
       "    </tr>\n",
       "  </thead>\n",
       "  <tbody>\n",
       "    <tr>\n",
       "      <th>BASICSHIM</th>\n",
       "      <td>80000.0</td>\n",
       "      <td>1.595969</td>\n",
       "      <td>0.193856</td>\n",
       "      <td>1.28</td>\n",
       "      <td>1.43</td>\n",
       "      <td>1.50</td>\n",
       "      <td>1.80</td>\n",
       "      <td>1.99</td>\n",
       "    </tr>\n",
       "    <tr>\n",
       "      <th>LHSSHIM</th>\n",
       "      <td>80000.0</td>\n",
       "      <td>1.593807</td>\n",
       "      <td>0.210571</td>\n",
       "      <td>0.88</td>\n",
       "      <td>1.43</td>\n",
       "      <td>1.54</td>\n",
       "      <td>1.78</td>\n",
       "      <td>2.35</td>\n",
       "    </tr>\n",
       "    <tr>\n",
       "      <th>RHSSHIM</th>\n",
       "      <td>80000.0</td>\n",
       "      <td>1.585737</td>\n",
       "      <td>0.209810</td>\n",
       "      <td>0.87</td>\n",
       "      <td>1.42</td>\n",
       "      <td>1.53</td>\n",
       "      <td>1.77</td>\n",
       "      <td>2.34</td>\n",
       "    </tr>\n",
       "  </tbody>\n",
       "</table>\n",
       "</div>"
      ],
      "text/plain": [
       "             count      mean       std   min   25%   50%   75%   max\n",
       "BASICSHIM  80000.0  1.595969  0.193856  1.28  1.43  1.50  1.80  1.99\n",
       "LHSSHIM    80000.0  1.593807  0.210571  0.88  1.43  1.54  1.78  2.35\n",
       "RHSSHIM    80000.0  1.585737  0.209810  0.87  1.42  1.53  1.77  2.34"
      ]
     },
     "execution_count": 4,
     "metadata": {},
     "output_type": "execute_result"
    }
   ],
   "source": [
    "df.describe().T"
   ]
  },
  {
   "cell_type": "markdown",
   "id": "e5740732",
   "metadata": {},
   "source": [
    "## Outlier replacing with median"
   ]
  },
  {
   "cell_type": "code",
   "execution_count": 5,
   "id": "f5600e0d",
   "metadata": {},
   "outputs": [
    {
     "data": {
      "text/plain": [
       "0.6188303998927871"
      ]
     },
     "execution_count": 5,
     "metadata": {},
     "output_type": "execute_result"
    },
    {
     "data": {
      "image/png": "[encoded data removed]",
      "text/plain": [
       "<Figure size 432x288 with 1 Axes>"
      ]
     },
     "metadata": {
      "needs_background": "light"
     },
     "output_type": "display_data"
    }
   ],
   "source": [
    "sns.kdeplot(df['BASICSHIM'],fill=True)\n",
    "df['BASICSHIM'].skew()"
   ]
  },
  {
   "cell_type": "code",
   "execution_count": 6,
   "id": "18e25eeb",
   "metadata": {},
   "outputs": [
    {
     "data": {
      "text/plain": [
       "0.48463675939398343"
      ]
     },
     "execution_count": 6,
     "metadata": {},
     "output_type": "execute_result"
    },
    {
     "data": {
      "image/png": "[encoded data removed]",
      "text/plain": [
       "<Figure size 432x288 with 1 Axes>"
      ]
     },
     "metadata": {
      "needs_background": "light"
     },
     "output_type": "display_data"
    }
   ],
   "source": [
    "sns.kdeplot(df['LHSSHIM'],fill=True)\n",
    "df['LHSSHIM'].skew()"
   ]
  },
  {
   "cell_type": "code",
   "execution_count": 7,
   "id": "a2fd0258",
   "metadata": {},
   "outputs": [
    {
     "data": {
      "text/plain": [
       "0.48226224971070397"
      ]
     },
     "execution_count": 7,
     "metadata": {},
     "output_type": "execute_result"
    },
    {
     "data": {
      "image/png": "[encoded data removed]",
      "text/plain": [
       "<Figure size 432x288 with 1 Axes>"
      ]
     },
     "metadata": {
      "needs_background": "light"
     },
     "output_type": "display_data"
    }
   ],
   "source": [
    "sns.kdeplot(df['RHSSHIM'],fill=True)\n",
    "df['RHSSHIM'].skew()"
   ]
  },
  {
   "cell_type": "code",
   "execution_count": 8,
   "id": "aecc2af1",
   "metadata": {},
   "outputs": [
    {
     "data": {
      "text/html": [
       "<div>\n",
       "<style scoped>\n",
       "    .dataframe tbody tr th:only-of-type {\n",
       "        vertical-align: middle;\n",
       "    }\n",
       "\n",
       "    .dataframe tbody tr th {\n",
       "        vertical-align: top;\n",
       "    }\n",
       "\n",
       "    .dataframe thead th {\n",
       "        text-align: right;\n",
       "    }\n",
       "</style>\n",
       "<table border=\"1\" class=\"dataframe\">\n",
       "  <thead>\n",
       "    <tr style=\"text-align: right;\">\n",
       "      <th></th>\n",
       "      <th>BASICSHIM</th>\n",
       "      <th>BENCH_NAME</th>\n",
       "      <th>DATE_AND_TIME_LOCAL</th>\n",
       "      <th>DATE_AND_TIME</th>\n",
       "      <th>LHSSHIM</th>\n",
       "      <th>RHSSHIM</th>\n",
       "      <th>SHIMTYPE</th>\n",
       "      <th>TYPE</th>\n",
       "    </tr>\n",
       "  </thead>\n",
       "  <tbody>\n",
       "    <tr>\n",
       "      <th>0</th>\n",
       "      <td>1.68</td>\n",
       "      <td>Line 2 PS1</td>\n",
       "      <td>2025-04-04T12:15:27.387</td>\n",
       "      <td>Apr  4 2025 12:15PM</td>\n",
       "      <td>1.65</td>\n",
       "      <td>1.55</td>\n",
       "      <td>2430 100 976</td>\n",
       "      <td>240+8</td>\n",
       "    </tr>\n",
       "    <tr>\n",
       "      <th>1</th>\n",
       "      <td>1.40</td>\n",
       "      <td>Line 2 PS1</td>\n",
       "      <td>2025-05-02T13:17:40.227</td>\n",
       "      <td>May  2 2025  1:17PM</td>\n",
       "      <td>1.48</td>\n",
       "      <td>1.49</td>\n",
       "      <td>2430 100 976</td>\n",
       "      <td>250+8=020</td>\n",
       "    </tr>\n",
       "    <tr>\n",
       "      <th>2</th>\n",
       "      <td>1.43</td>\n",
       "      <td>Line 2 PS1</td>\n",
       "      <td>2025-05-07T07:58:42.763</td>\n",
       "      <td>May  7 2025  7:58AM</td>\n",
       "      <td>1.43</td>\n",
       "      <td>1.40</td>\n",
       "      <td>2430 100 976</td>\n",
       "      <td>250+8=020</td>\n",
       "    </tr>\n",
       "    <tr>\n",
       "      <th>3</th>\n",
       "      <td>1.84</td>\n",
       "      <td>Line 2 PS1</td>\n",
       "      <td>2025-06-06T06:23:21.787</td>\n",
       "      <td>Jun  6 2025  6:23AM</td>\n",
       "      <td>1.81</td>\n",
       "      <td>1.85</td>\n",
       "      <td>2430 100 976</td>\n",
       "      <td>260+8</td>\n",
       "    </tr>\n",
       "    <tr>\n",
       "      <th>4</th>\n",
       "      <td>1.45</td>\n",
       "      <td>Line 2 PS1</td>\n",
       "      <td>2025-03-17T13:21:07.027</td>\n",
       "      <td>Mar 17 2025  1:21PM</td>\n",
       "      <td>1.64</td>\n",
       "      <td>1.40</td>\n",
       "      <td>2430 100 976</td>\n",
       "      <td>250+8=020</td>\n",
       "    </tr>\n",
       "    <tr>\n",
       "      <th>...</th>\n",
       "      <td>...</td>\n",
       "      <td>...</td>\n",
       "      <td>...</td>\n",
       "      <td>...</td>\n",
       "      <td>...</td>\n",
       "      <td>...</td>\n",
       "      <td>...</td>\n",
       "      <td>...</td>\n",
       "    </tr>\n",
       "    <tr>\n",
       "      <th>79995</th>\n",
       "      <td>1.91</td>\n",
       "      <td>Line 2 PS1</td>\n",
       "      <td>2025-06-12T15:07:08.117</td>\n",
       "      <td>Jun 12 2025  3:07PM</td>\n",
       "      <td>1.77</td>\n",
       "      <td>1.91</td>\n",
       "      <td>2430 100 976</td>\n",
       "      <td>250+10</td>\n",
       "    </tr>\n",
       "    <tr>\n",
       "      <th>79996</th>\n",
       "      <td>1.42</td>\n",
       "      <td>Line 2 PS1</td>\n",
       "      <td>2025-04-25T14:17:35.057</td>\n",
       "      <td>Apr 25 2025  2:17PM</td>\n",
       "      <td>1.44</td>\n",
       "      <td>1.46</td>\n",
       "      <td>2430 100 976</td>\n",
       "      <td>250+8=020</td>\n",
       "    </tr>\n",
       "    <tr>\n",
       "      <th>79997</th>\n",
       "      <td>1.75</td>\n",
       "      <td>Line 2 PS1</td>\n",
       "      <td>2025-04-03T06:29:12.800</td>\n",
       "      <td>Apr  3 2025  6:29AM</td>\n",
       "      <td>1.64</td>\n",
       "      <td>1.53</td>\n",
       "      <td>2430 100 976</td>\n",
       "      <td>250+8=020</td>\n",
       "    </tr>\n",
       "    <tr>\n",
       "      <th>79998</th>\n",
       "      <td>1.40</td>\n",
       "      <td>Line 2 PS1</td>\n",
       "      <td>2025-06-18T13:24:19.610</td>\n",
       "      <td>Jun 18 2025  1:24PM</td>\n",
       "      <td>1.41</td>\n",
       "      <td>1.44</td>\n",
       "      <td>2430 100 976</td>\n",
       "      <td>250+8=020</td>\n",
       "    </tr>\n",
       "    <tr>\n",
       "      <th>79999</th>\n",
       "      <td>1.93</td>\n",
       "      <td>Line 2 PS1</td>\n",
       "      <td>2025-06-03T19:39:06.463</td>\n",
       "      <td>Jun  3 2025  7:39PM</td>\n",
       "      <td>1.91</td>\n",
       "      <td>1.96</td>\n",
       "      <td>2430 100 976</td>\n",
       "      <td>250+10</td>\n",
       "    </tr>\n",
       "  </tbody>\n",
       "</table>\n",
       "<p>80000 rows × 8 columns</p>\n",
       "</div>"
      ],
      "text/plain": [
       "       BASICSHIM  BENCH_NAME      DATE_AND_TIME_LOCAL        DATE_AND_TIME  \\\n",
       "0           1.68  Line 2 PS1  2025-04-04T12:15:27.387  Apr  4 2025 12:15PM   \n",
       "1           1.40  Line 2 PS1  2025-05-02T13:17:40.227  May  2 2025  1:17PM   \n",
       "2           1.43  Line 2 PS1  2025-05-07T07:58:42.763  May  7 2025  7:58AM   \n",
       "3           1.84  Line 2 PS1  2025-06-06T06:23:21.787  Jun  6 2025  6:23AM   \n",
       "4           1.45  Line 2 PS1  2025-03-17T13:21:07.027  Mar 17 2025  1:21PM   \n",
       "...          ...         ...                      ...                  ...   \n",
       "79995       1.91  Line 2 PS1  2025-06-12T15:07:08.117  Jun 12 2025  3:07PM   \n",
       "79996       1.42  Line 2 PS1  2025-04-25T14:17:35.057  Apr 25 2025  2:17PM   \n",
       "79997       1.75  Line 2 PS1  2025-04-03T06:29:12.800  Apr  3 2025  6:29AM   \n",
       "79998       1.40  Line 2 PS1  2025-06-18T13:24:19.610  Jun 18 2025  1:24PM   \n",
       "79999       1.93  Line 2 PS1  2025-06-03T19:39:06.463  Jun  3 2025  7:39PM   \n",
       "\n",
       "       LHSSHIM  RHSSHIM      SHIMTYPE       TYPE  \n",
       "0         1.65     1.55  2430 100 976      240+8  \n",
       "1         1.48     1.49  2430 100 976  250+8=020  \n",
       "2         1.43     1.40  2430 100 976  250+8=020  \n",
       "3         1.81     1.85  2430 100 976      260+8  \n",
       "4         1.64     1.40  2430 100 976  250+8=020  \n",
       "...        ...      ...           ...        ...  \n",
       "79995     1.77     1.91  2430 100 976     250+10  \n",
       "79996     1.44     1.46  2430 100 976  250+8=020  \n",
       "79997     1.64     1.53  2430 100 976  250+8=020  \n",
       "79998     1.41     1.44  2430 100 976  250+8=020  \n",
       "79999     1.91     1.96  2430 100 976     250+10  \n",
       "\n",
       "[80000 rows x 8 columns]"
      ]
     },
     "execution_count": 8,
     "metadata": {},
     "output_type": "execute_result"
    }
   ],
   "source": [
    "selected_features = [\"BASICSHIM\",\"LHSSHIM\",\"RHSSHIM\"]\n",
    "\n",
    "for col in selected_features:\n",
    "    Q1 = df[col].quantile(0.25)\n",
    "    Q3 = df[col].quantile(0.75)\n",
    "    IQR = Q3 - Q1\n",
    "    lower_bound = Q1 - 1.5 * IQR\n",
    "    upper_bound = Q3 + 1.5 * IQR\n",
    "    median = df[col].median()\n",
    "    \n",
    "    df[col] = np.where((df[col] < lower_bound) | (df[col] > upper_bound), median, df[col])\n",
    "\n",
    "\n",
    "df"
   ]
  },
  {
   "cell_type": "code",
   "execution_count": 9,
   "id": "913e67a2",
   "metadata": {},
   "outputs": [],
   "source": [
    "# df['BASICSHIM_log'] = np.log(df['BASICSHIM'] + 1) \n",
    "# df['LHSSHIM_log'] = np.log(df['LHSSHIM'] + 1)  \n",
    "# df['RHSSHIM_log'] = np.log(df['RHSSHIM'] + 1)  "
   ]
  },
  {
   "cell_type": "code",
   "execution_count": 10,
   "id": "4138960d",
   "metadata": {},
   "outputs": [
    {
     "data": {
      "text/plain": [
       "0.6188303998927871"
      ]
     },
     "execution_count": 10,
     "metadata": {},
     "output_type": "execute_result"
    },
    {
     "data": {
      "image/png": "[encoded data removed]",
      "text/plain": [
       "<Figure size 432x288 with 1 Axes>"
      ]
     },
     "metadata": {
      "needs_background": "light"
     },
     "output_type": "display_data"
    }
   ],
   "source": [
    "sns.kdeplot(df['BASICSHIM'],fill=True)\n",
    "df['BASICSHIM'].skew()"
   ]
  },
  {
   "cell_type": "code",
   "execution_count": 11,
   "id": "941a2c17",
   "metadata": {},
   "outputs": [
    {
     "data": {
      "text/plain": [
       "0.47838692369237035"
      ]
     },
     "execution_count": 11,
     "metadata": {},
     "output_type": "execute_result"
    },
    {
     "data": {
      "image/png": "[encoded data removed]",
      "text/plain": [
       "<Figure size 432x288 with 1 Axes>"
      ]
     },
     "metadata": {
      "needs_background": "light"
     },
     "output_type": "display_data"
    }
   ],
   "source": [
    "sns.kdeplot(df['LHSSHIM'],fill=True)\n",
    "df['LHSSHIM'].skew()"
   ]
  },
  {
   "cell_type": "code",
   "execution_count": 12,
   "id": "765a3e72",
   "metadata": {},
   "outputs": [
    {
     "data": {
      "text/plain": [
       "0.4807124329715648"
      ]
     },
     "execution_count": 12,
     "metadata": {},
     "output_type": "execute_result"
    },
    {
     "data": {
      "image/png": "[encoded data removed]",
      "text/plain": [
       "<Figure size 432x288 with 1 Axes>"
      ]
     },
     "metadata": {
      "needs_background": "light"
     },
     "output_type": "display_data"
    }
   ],
   "source": [
    "sns.kdeplot(df['RHSSHIM'],fill=True)\n",
    "df['RHSSHIM'].skew()"
   ]
  },
  {
   "cell_type": "markdown",
   "id": "38664d17",
   "metadata": {},
   "source": [
    "## Feature selection "
   ]
  },
  {
   "cell_type": "code",
   "execution_count": 13,
   "id": "0cf67c57",
   "metadata": {},
   "outputs": [],
   "source": [
    "X = df[[\"LHSSHIM\",\"RHSSHIM\",\"TYPE\"]].copy()\n",
    "X['TYPE'] = X['TYPE'].astype('category')\n",
    "\n",
    "y = df[\"BASICSHIM\"]\n",
    "\n",
    "X_train, X_test, y_train, y_test = train_test_split(X, y, test_size=0.2, random_state=43)"
   ]
  },
  {
   "cell_type": "markdown",
   "id": "f520d452",
   "metadata": {},
   "source": [
    "## Testing dataset loading "
   ]
  },
  {
   "cell_type": "code",
   "execution_count": 14,
   "id": "724c85e4",
   "metadata": {},
   "outputs": [],
   "source": [
    "tdf = pd.read_csv(\"NHA_test_data.csv\")"
   ]
  },
  {
   "cell_type": "code",
   "execution_count": 15,
   "id": "c16ab3e2",
   "metadata": {},
   "outputs": [],
   "source": [
    "X1 = tdf[[\"LHSSHIM\",\"RHSSHIM\",\"TYPE\"]].copy()\n",
    "X1['TYPE'] = X1['TYPE'].astype('category')\n",
    "y1 = tdf['BASICSHIM']\n",
    "X1_train, X1_test, y1_train, y1_test = train_test_split(X1, y1, test_size=0.2, random_state=143)"
   ]
  },
  {
   "cell_type": "markdown",
   "id": "04680090",
   "metadata": {},
   "source": [
    "## CatBoostingRegressor Modeling "
   ]
  },
  {
   "cell_type": "code",
   "execution_count": 16,
   "id": "53228d35",
   "metadata": {},
   "outputs": [],
   "source": [
    "# cmodel = CatBoostRegressor(iterations = 200,\n",
    "#                            max_depth = 8,\n",
    "#                            learning_rate = 0.05,\n",
    "#                            subsample = 1.0,\n",
    "#                            verbose=0,\n",
    "#                            loss_function=\"RMSE\",\n",
    "#                            random_state=42)\n",
    "\n",
    "# cmodel.fit(X_train, y_train, cat_features=['TYPE'])\n",
    "# y_pred = cmodel.predict(X_test)\n",
    "\n",
    "# mse = mean_squared_error(y_test,y_pred)\n",
    "# rmse = np.sqrt(mse)\n",
    "# r2_scores = r2_score(y_test,y_pred)\n",
    "\n",
    "# print(f\"Mean Squared Error -> {mse*100:.2f}%\")\n",
    "# print(f\"Root Mean Square Error -> {rmse:.2f}%\")\n",
    "# print(f\"R2 Score -> {r2_scores*100:.2f}%\")"
   ]
  },
  {
   "cell_type": "markdown",
   "id": "6119123c",
   "metadata": {},
   "source": [
    "## LightBoostRegressor Modeling"
   ]
  },
  {
   "cell_type": "code",
   "execution_count": 17,
   "id": "f264ffd9",
   "metadata": {},
   "outputs": [
    {
     "name": "stdout",
     "output_type": "stream",
     "text": [
      "Mean Squared Error -> 0.0037mm²\n",
      "Root Mean Square Error -> 0.0607mm²\n",
      "R2 Score -> 90.23%\n",
      "Mean R2 Score -> 90.23%\n"
     ]
    }
   ],
   "source": [
    "final_lmodel = LGBMRegressor(\n",
    "    subsample=1.0,\n",
    "    max_depth=6,\n",
    "    n_estimators=200,\n",
    "    learning_rate=0.05,\n",
    "    verbose=-1,\n",
    "    n_jobs=-1,\n",
    "    colsample_bytree=1.0,\n",
    "    random_state=123\n",
    ")\n",
    "\n",
    "final_lmodel.fit(X_train, y_train)\n",
    "y_predictions = final_lmodel.predict(X_test)\n",
    "\n",
    "mse = mean_squared_error(y_test, y_predictions)\n",
    "rmse = np.sqrt(mse)\n",
    "r2_scores = r2_score(y_test, y_predictions)\n",
    "mean_r2 = r2_score(y_test, y_predictions, multioutput='uniform_average')\n",
    "\n",
    "print(f\"Mean Squared Error -> {mse:.4f}mm²\")\n",
    "print(f\"Root Mean Square Error -> {rmse:.4f}mm²\")\n",
    "print(f\"R2 Score -> {r2_scores*100:.2f}%\")\n",
    "print(f\"Mean R2 Score -> {mean_r2*100:.2f}%\")"
   ]
  },
  {
   "cell_type": "markdown",
   "id": "0c6d8dc4",
   "metadata": {},
   "source": [
    "## Testing The Training Data"
   ]
  },
  {
   "cell_type": "code",
   "execution_count": 18,
   "id": "2328f01a",
   "metadata": {},
   "outputs": [
    {
     "name": "stdout",
     "output_type": "stream",
     "text": [
      "X_train shape: (64000, 3)\n",
      "X1_train shape: (16000, 3)\n",
      "X_train columns: Index(['LHSSHIM', 'RHSSHIM', 'TYPE'], dtype='object')\n",
      "X1_train columns: Index(['LHSSHIM', 'RHSSHIM', 'TYPE'], dtype='object')\n"
     ]
    }
   ],
   "source": [
    "print(\"X_train shape:\", X_train.shape)\n",
    "print(\"X1_train shape:\", X1_train.shape)\n",
    "\n",
    "print(\"X_train columns:\", X_train.columns)\n",
    "print(\"X1_train columns:\", X1_train.columns)\n"
   ]
  },
  {
   "cell_type": "code",
   "execution_count": 19,
   "id": "afb15ef1",
   "metadata": {},
   "outputs": [
    {
     "name": "stdout",
     "output_type": "stream",
     "text": [
      "Training R²: 90.30% | MSE: 0.0037mm^2\n"
     ]
    }
   ],
   "source": [
    "y1_train_pred = final_lmodel.predict(X1_train)\n",
    "\n",
    "r2_train = r2_score(y1_train, y1_train_pred)\n",
    "mse_train = mean_squared_error(y1_train, y1_train_pred)\n",
    "print(f\"Training R²: {r2_train*100:.2f}% | MSE: {mse_train:.4f}mm^2\")\n"
   ]
  },
  {
   "cell_type": "markdown",
   "id": "5b618dbb",
   "metadata": {},
   "source": [
    "## Testing The Test Data"
   ]
  },
  {
   "cell_type": "code",
   "execution_count": 20,
   "id": "1dd64deb",
   "metadata": {},
   "outputs": [
    {
     "name": "stdout",
     "output_type": "stream",
     "text": [
      "Test R²: 90.65% | MSE: 0.0036\n"
     ]
    }
   ],
   "source": [
    "y1_test_pred = final_lmodel.predict(X1_test)\n",
    "\n",
    "r2_test = r2_score(y1_test, y1_test_pred)\n",
    "mse_test = mean_squared_error(y1_test, y1_test_pred)\n",
    "print(f\"Test R²: {r2_test*100:.2f}% | MSE: {mse_test:.4f}\")\n"
   ]
  },
  {
   "cell_type": "code",
   "execution_count": 21,
   "id": "96804f4c",
   "metadata": {},
   "outputs": [],
   "source": [
    "# joblib.dump(final_lmodel,\"lgbm.pkl\")"
   ]
  },
  {
   "cell_type": "markdown",
   "id": "b88b0bd2",
   "metadata": {},
   "source": [
    "## Real time value prediction"
   ]
  },
  {
   "cell_type": "code",
   "execution_count": 22,
   "id": "2d8a6188",
   "metadata": {},
   "outputs": [
    {
     "data": {
      "text/html": [
       "<div>\n",
       "<style scoped>\n",
       "    .dataframe tbody tr th:only-of-type {\n",
       "        vertical-align: middle;\n",
       "    }\n",
       "\n",
       "    .dataframe tbody tr th {\n",
       "        vertical-align: top;\n",
       "    }\n",
       "\n",
       "    .dataframe thead th {\n",
       "        text-align: right;\n",
       "    }\n",
       "</style>\n",
       "<table border=\"1\" class=\"dataframe\">\n",
       "  <thead>\n",
       "    <tr style=\"text-align: right;\">\n",
       "      <th></th>\n",
       "      <th>date</th>\n",
       "      <th>Actual</th>\n",
       "      <th>Predicted</th>\n",
       "    </tr>\n",
       "  </thead>\n",
       "  <tbody>\n",
       "    <tr>\n",
       "      <th>0</th>\n",
       "      <td>2025-07-14</td>\n",
       "      <td>1.629</td>\n",
       "      <td>1.640614</td>\n",
       "    </tr>\n",
       "  </tbody>\n",
       "</table>\n",
       "</div>"
      ],
      "text/plain": [
       "         date  Actual  Predicted\n",
       "0  2025-07-14   1.629   1.640614"
      ]
     },
     "execution_count": 22,
     "metadata": {},
     "output_type": "execute_result"
    }
   ],
   "source": [
    "from datetime import date\n",
    "import pandas as pd\n",
    "\n",
    "\n",
    "sample = [[1.63, 1.61, \"240+8\"]]\n",
    "sample_df = pd.DataFrame(sample, columns=[\"LHSSHIM\", \"RHSSHIM\", \"TYPE\"])\n",
    "\n",
    "sample_df[\"TYPE\"] = sample_df[\"TYPE\"].astype(\"category\")  \n",
    "\n",
    "actual_value = 1.629\n",
    "pred = final_lmodel.predict(sample_df)\n",
    "\n",
    "dic = {\n",
    "    \"date\": date.today(),\n",
    "    \"Actual\":actual_value,\n",
    "    \"Predicted\": pred[0]\n",
    "}\n",
    "\n",
    "result_df = pd.DataFrame([dic])\n",
    "result_df\n"
   ]
  },
  {
   "cell_type": "code",
   "execution_count": 23,
   "id": "ac49634b",
   "metadata": {},
   "outputs": [
    {
     "name": "stdout",
     "output_type": "stream",
     "text": [
      "MAE -> [0.01161385]\n"
     ]
    }
   ],
   "source": [
    "Mean_Absolute_Error = abs(actual_value - pred)\n",
    "print(f\"MAE -> {Mean_Absolute_Error}\")"
   ]
  },
  {
   "cell_type": "code",
   "execution_count": 24,
   "id": "261e17a0",
   "metadata": {
    "scrolled": true
   },
   "outputs": [
    {
     "data": {
      "text/html": [
       "<div>\n",
       "<style scoped>\n",
       "    .dataframe tbody tr th:only-of-type {\n",
       "        vertical-align: middle;\n",
       "    }\n",
       "\n",
       "    .dataframe tbody tr th {\n",
       "        vertical-align: top;\n",
       "    }\n",
       "\n",
       "    .dataframe thead th {\n",
       "        text-align: right;\n",
       "    }\n",
       "</style>\n",
       "<table border=\"1\" class=\"dataframe\">\n",
       "  <thead>\n",
       "    <tr style=\"text-align: right;\">\n",
       "      <th></th>\n",
       "      <th>BASICSHIM</th>\n",
       "      <th>BENCH_NAME</th>\n",
       "      <th>DATE_AND_TIME_LOCAL</th>\n",
       "      <th>DATE_AND_TIME</th>\n",
       "      <th>LHSSHIM</th>\n",
       "      <th>RHSSHIM</th>\n",
       "      <th>SHIMTYPE</th>\n",
       "      <th>TYPE</th>\n",
       "    </tr>\n",
       "  </thead>\n",
       "  <tbody>\n",
       "    <tr>\n",
       "      <th>0</th>\n",
       "      <td>1.68</td>\n",
       "      <td>Line 2 PS1</td>\n",
       "      <td>2025-04-04T12:15:27.387</td>\n",
       "      <td>Apr  4 2025 12:15PM</td>\n",
       "      <td>1.65</td>\n",
       "      <td>1.55</td>\n",
       "      <td>2430 100 976</td>\n",
       "      <td>240+8</td>\n",
       "    </tr>\n",
       "    <tr>\n",
       "      <th>1</th>\n",
       "      <td>1.40</td>\n",
       "      <td>Line 2 PS1</td>\n",
       "      <td>2025-05-02T13:17:40.227</td>\n",
       "      <td>May  2 2025  1:17PM</td>\n",
       "      <td>1.48</td>\n",
       "      <td>1.49</td>\n",
       "      <td>2430 100 976</td>\n",
       "      <td>250+8=020</td>\n",
       "    </tr>\n",
       "    <tr>\n",
       "      <th>2</th>\n",
       "      <td>1.43</td>\n",
       "      <td>Line 2 PS1</td>\n",
       "      <td>2025-05-07T07:58:42.763</td>\n",
       "      <td>May  7 2025  7:58AM</td>\n",
       "      <td>1.43</td>\n",
       "      <td>1.40</td>\n",
       "      <td>2430 100 976</td>\n",
       "      <td>250+8=020</td>\n",
       "    </tr>\n",
       "    <tr>\n",
       "      <th>3</th>\n",
       "      <td>1.84</td>\n",
       "      <td>Line 2 PS1</td>\n",
       "      <td>2025-06-06T06:23:21.787</td>\n",
       "      <td>Jun  6 2025  6:23AM</td>\n",
       "      <td>1.81</td>\n",
       "      <td>1.85</td>\n",
       "      <td>2430 100 976</td>\n",
       "      <td>260+8</td>\n",
       "    </tr>\n",
       "    <tr>\n",
       "      <th>4</th>\n",
       "      <td>1.45</td>\n",
       "      <td>Line 2 PS1</td>\n",
       "      <td>2025-03-17T13:21:07.027</td>\n",
       "      <td>Mar 17 2025  1:21PM</td>\n",
       "      <td>1.64</td>\n",
       "      <td>1.40</td>\n",
       "      <td>2430 100 976</td>\n",
       "      <td>250+8=020</td>\n",
       "    </tr>\n",
       "    <tr>\n",
       "      <th>...</th>\n",
       "      <td>...</td>\n",
       "      <td>...</td>\n",
       "      <td>...</td>\n",
       "      <td>...</td>\n",
       "      <td>...</td>\n",
       "      <td>...</td>\n",
       "      <td>...</td>\n",
       "      <td>...</td>\n",
       "    </tr>\n",
       "    <tr>\n",
       "      <th>79995</th>\n",
       "      <td>1.91</td>\n",
       "      <td>Line 2 PS1</td>\n",
       "      <td>2025-06-12T15:07:08.117</td>\n",
       "      <td>Jun 12 2025  3:07PM</td>\n",
       "      <td>1.77</td>\n",
       "      <td>1.91</td>\n",
       "      <td>2430 100 976</td>\n",
       "      <td>250+10</td>\n",
       "    </tr>\n",
       "    <tr>\n",
       "      <th>79996</th>\n",
       "      <td>1.42</td>\n",
       "      <td>Line 2 PS1</td>\n",
       "      <td>2025-04-25T14:17:35.057</td>\n",
       "      <td>Apr 25 2025  2:17PM</td>\n",
       "      <td>1.44</td>\n",
       "      <td>1.46</td>\n",
       "      <td>2430 100 976</td>\n",
       "      <td>250+8=020</td>\n",
       "    </tr>\n",
       "    <tr>\n",
       "      <th>79997</th>\n",
       "      <td>1.75</td>\n",
       "      <td>Line 2 PS1</td>\n",
       "      <td>2025-04-03T06:29:12.800</td>\n",
       "      <td>Apr  3 2025  6:29AM</td>\n",
       "      <td>1.64</td>\n",
       "      <td>1.53</td>\n",
       "      <td>2430 100 976</td>\n",
       "      <td>250+8=020</td>\n",
       "    </tr>\n",
       "    <tr>\n",
       "      <th>79998</th>\n",
       "      <td>1.40</td>\n",
       "      <td>Line 2 PS1</td>\n",
       "      <td>2025-06-18T13:24:19.610</td>\n",
       "      <td>Jun 18 2025  1:24PM</td>\n",
       "      <td>1.41</td>\n",
       "      <td>1.44</td>\n",
       "      <td>2430 100 976</td>\n",
       "      <td>250+8=020</td>\n",
       "    </tr>\n",
       "    <tr>\n",
       "      <th>79999</th>\n",
       "      <td>1.93</td>\n",
       "      <td>Line 2 PS1</td>\n",
       "      <td>2025-06-03T19:39:06.463</td>\n",
       "      <td>Jun  3 2025  7:39PM</td>\n",
       "      <td>1.91</td>\n",
       "      <td>1.96</td>\n",
       "      <td>2430 100 976</td>\n",
       "      <td>250+10</td>\n",
       "    </tr>\n",
       "  </tbody>\n",
       "</table>\n",
       "<p>80000 rows × 8 columns</p>\n",
       "</div>"
      ],
      "text/plain": [
       "       BASICSHIM  BENCH_NAME      DATE_AND_TIME_LOCAL        DATE_AND_TIME  \\\n",
       "0           1.68  Line 2 PS1  2025-04-04T12:15:27.387  Apr  4 2025 12:15PM   \n",
       "1           1.40  Line 2 PS1  2025-05-02T13:17:40.227  May  2 2025  1:17PM   \n",
       "2           1.43  Line 2 PS1  2025-05-07T07:58:42.763  May  7 2025  7:58AM   \n",
       "3           1.84  Line 2 PS1  2025-06-06T06:23:21.787  Jun  6 2025  6:23AM   \n",
       "4           1.45  Line 2 PS1  2025-03-17T13:21:07.027  Mar 17 2025  1:21PM   \n",
       "...          ...         ...                      ...                  ...   \n",
       "79995       1.91  Line 2 PS1  2025-06-12T15:07:08.117  Jun 12 2025  3:07PM   \n",
       "79996       1.42  Line 2 PS1  2025-04-25T14:17:35.057  Apr 25 2025  2:17PM   \n",
       "79997       1.75  Line 2 PS1  2025-04-03T06:29:12.800  Apr  3 2025  6:29AM   \n",
       "79998       1.40  Line 2 PS1  2025-06-18T13:24:19.610  Jun 18 2025  1:24PM   \n",
       "79999       1.93  Line 2 PS1  2025-06-03T19:39:06.463  Jun  3 2025  7:39PM   \n",
       "\n",
       "       LHSSHIM  RHSSHIM      SHIMTYPE       TYPE  \n",
       "0         1.65     1.55  2430 100 976      240+8  \n",
       "1         1.48     1.49  2430 100 976  250+8=020  \n",
       "2         1.43     1.40  2430 100 976  250+8=020  \n",
       "3         1.81     1.85  2430 100 976      260+8  \n",
       "4         1.64     1.40  2430 100 976  250+8=020  \n",
       "...        ...      ...           ...        ...  \n",
       "79995     1.77     1.91  2430 100 976     250+10  \n",
       "79996     1.44     1.46  2430 100 976  250+8=020  \n",
       "79997     1.64     1.53  2430 100 976  250+8=020  \n",
       "79998     1.41     1.44  2430 100 976  250+8=020  \n",
       "79999     1.91     1.96  2430 100 976     250+10  \n",
       "\n",
       "[80000 rows x 8 columns]"
      ]
     },
     "execution_count": 24,
     "metadata": {},
     "output_type": "execute_result"
    }
   ],
   "source": [
    "df"
   ]
  },
  {
   "cell_type": "code",
   "execution_count": 25,
   "id": "002def2e",
   "metadata": {},
   "outputs": [
    {
     "data": {
      "text/plain": [
       "array(['240+8', '250+8=020', '260+8', '250+10', '250+8=028',\n",
       "       '250+10(028)', '230+8=020', '260+10=020', '270+8', '250+8',\n",
       "       '245+10', '275+8=020', 'Master 300', '258+8=020', '255+10',\n",
       "       '255+8', '255+8=020', '200+8(028)', '280+8', '255+8=028'],\n",
       "      dtype=object)"
      ]
     },
     "execution_count": 25,
     "metadata": {},
     "output_type": "execute_result"
    }
   ],
   "source": [
    "df['TYPE'].unique()"
   ]
  },
  {
   "cell_type": "code",
   "execution_count": null,
   "id": "62c18981",
   "metadata": {},
   "outputs": [],
   "source": []
  }
 ],
 "metadata": {
  "kernelspec": {
   "display_name": "Python 3 (ipykernel)",
   "language": "python",
   "name": "python3"
  },
  "language_info": {
   "codemirror_mode": {
    "name": "ipython",
    "version": 3
   },
   "file_extension": ".py",
   "mimetype": "text/x-python",
   "name": "python",
   "nbconvert_exporter": "python",
   "pygments_lexer": "ipython3",
   "version": "3.9.7"
  }
 },
 "nbformat": 4,
 "nbformat_minor": 5
}
