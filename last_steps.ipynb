{
 "cells": [
  {
   "cell_type": "code",
   "execution_count": 1,
   "id": "2f3b9ebe",
   "metadata": {},
   "outputs": [],
   "source": [
    "import pandas as pd\n",
    "import numpy as np"
   ]
  },
  {
   "cell_type": "code",
   "execution_count": 2,
   "id": "5e1410c1",
   "metadata": {},
   "outputs": [
    {
     "data": {
      "text/plain": [
       "(100000, 9)"
      ]
     },
     "execution_count": 2,
     "metadata": {},
     "output_type": "execute_result"
    }
   ],
   "source": [
    "df = pd.read_csv(\"FTB_Data_2025_06_19.csv\")\n",
    "df.shape"
   ]
  },
  {
   "cell_type": "code",
   "execution_count": 3,
   "id": "c9840c31",
   "metadata": {},
   "outputs": [],
   "source": [
    "selected_features = ['LHSSHIM','RHSSHIM']\n",
    "M_dataset = df.groupby(\"TYPE\")[selected_features].median()"
   ]
  },
  {
   "cell_type": "code",
   "execution_count": 4,
   "id": "c54bb762",
   "metadata": {},
   "outputs": [
    {
     "data": {
      "text/html": [
       "<div>\n",
       "<style scoped>\n",
       "    .dataframe tbody tr th:only-of-type {\n",
       "        vertical-align: middle;\n",
       "    }\n",
       "\n",
       "    .dataframe tbody tr th {\n",
       "        vertical-align: top;\n",
       "    }\n",
       "\n",
       "    .dataframe thead th {\n",
       "        text-align: right;\n",
       "    }\n",
       "</style>\n",
       "<table border=\"1\" class=\"dataframe\">\n",
       "  <thead>\n",
       "    <tr style=\"text-align: right;\">\n",
       "      <th></th>\n",
       "      <th>LHSSHIM</th>\n",
       "      <th>RHSSHIM</th>\n",
       "    </tr>\n",
       "    <tr>\n",
       "      <th>TYPE</th>\n",
       "      <th></th>\n",
       "      <th></th>\n",
       "    </tr>\n",
       "  </thead>\n",
       "  <tbody>\n",
       "    <tr>\n",
       "      <th>200+8(028)</th>\n",
       "      <td>1.660</td>\n",
       "      <td>1.690</td>\n",
       "    </tr>\n",
       "    <tr>\n",
       "      <th>230+8=020</th>\n",
       "      <td>1.600</td>\n",
       "      <td>1.580</td>\n",
       "    </tr>\n",
       "    <tr>\n",
       "      <th>240+8</th>\n",
       "      <td>1.630</td>\n",
       "      <td>1.610</td>\n",
       "    </tr>\n",
       "    <tr>\n",
       "      <th>245+10</th>\n",
       "      <td>1.890</td>\n",
       "      <td>1.870</td>\n",
       "    </tr>\n",
       "    <tr>\n",
       "      <th>250+10</th>\n",
       "      <td>1.880</td>\n",
       "      <td>1.880</td>\n",
       "    </tr>\n",
       "    <tr>\n",
       "      <th>250+10(028)</th>\n",
       "      <td>1.950</td>\n",
       "      <td>1.940</td>\n",
       "    </tr>\n",
       "    <tr>\n",
       "      <th>250+8</th>\n",
       "      <td>1.480</td>\n",
       "      <td>1.480</td>\n",
       "    </tr>\n",
       "    <tr>\n",
       "      <th>250+8=020</th>\n",
       "      <td>1.450</td>\n",
       "      <td>1.440</td>\n",
       "    </tr>\n",
       "    <tr>\n",
       "      <th>250+8=028</th>\n",
       "      <td>1.910</td>\n",
       "      <td>1.900</td>\n",
       "    </tr>\n",
       "    <tr>\n",
       "      <th>255+10</th>\n",
       "      <td>1.620</td>\n",
       "      <td>1.620</td>\n",
       "    </tr>\n",
       "    <tr>\n",
       "      <th>255+8</th>\n",
       "      <td>1.720</td>\n",
       "      <td>1.720</td>\n",
       "    </tr>\n",
       "    <tr>\n",
       "      <th>255+8=020</th>\n",
       "      <td>1.750</td>\n",
       "      <td>1.710</td>\n",
       "    </tr>\n",
       "    <tr>\n",
       "      <th>255+8=028</th>\n",
       "      <td>1.940</td>\n",
       "      <td>1.950</td>\n",
       "    </tr>\n",
       "    <tr>\n",
       "      <th>258+8=020</th>\n",
       "      <td>1.490</td>\n",
       "      <td>1.480</td>\n",
       "    </tr>\n",
       "    <tr>\n",
       "      <th>260+10=020</th>\n",
       "      <td>1.510</td>\n",
       "      <td>1.520</td>\n",
       "    </tr>\n",
       "    <tr>\n",
       "      <th>260+8</th>\n",
       "      <td>1.810</td>\n",
       "      <td>1.800</td>\n",
       "    </tr>\n",
       "    <tr>\n",
       "      <th>270+8</th>\n",
       "      <td>1.790</td>\n",
       "      <td>1.790</td>\n",
       "    </tr>\n",
       "    <tr>\n",
       "      <th>275+8=020</th>\n",
       "      <td>1.610</td>\n",
       "      <td>1.610</td>\n",
       "    </tr>\n",
       "    <tr>\n",
       "      <th>280+8</th>\n",
       "      <td>1.815</td>\n",
       "      <td>1.815</td>\n",
       "    </tr>\n",
       "    <tr>\n",
       "      <th>Master 300</th>\n",
       "      <td>1.540</td>\n",
       "      <td>1.530</td>\n",
       "    </tr>\n",
       "  </tbody>\n",
       "</table>\n",
       "</div>"
      ],
      "text/plain": [
       "             LHSSHIM  RHSSHIM\n",
       "TYPE                         \n",
       "200+8(028)     1.660    1.690\n",
       "230+8=020      1.600    1.580\n",
       "240+8          1.630    1.610\n",
       "245+10         1.890    1.870\n",
       "250+10         1.880    1.880\n",
       "250+10(028)    1.950    1.940\n",
       "250+8          1.480    1.480\n",
       "250+8=020      1.450    1.440\n",
       "250+8=028      1.910    1.900\n",
       "255+10         1.620    1.620\n",
       "255+8          1.720    1.720\n",
       "255+8=020      1.750    1.710\n",
       "255+8=028      1.940    1.950\n",
       "258+8=020      1.490    1.480\n",
       "260+10=020     1.510    1.520\n",
       "260+8          1.810    1.800\n",
       "270+8          1.790    1.790\n",
       "275+8=020      1.610    1.610\n",
       "280+8          1.815    1.815\n",
       "Master 300     1.540    1.530"
      ]
     },
     "execution_count": 4,
     "metadata": {},
     "output_type": "execute_result"
    }
   ],
   "source": [
    "M_dataset"
   ]
  },
  {
   "cell_type": "code",
   "execution_count": 5,
   "id": "a736ae35",
   "metadata": {},
   "outputs": [],
   "source": [
    "M_dataset.to_csv(\"M_dataset.csv\")"
   ]
  },
  {
   "cell_type": "code",
   "execution_count": 6,
   "id": "cd8376e7",
   "metadata": {},
   "outputs": [],
   "source": [
    "fd = pd.read_csv(\"M_dataset.csv\")"
   ]
  },
  {
   "cell_type": "code",
   "execution_count": null,
   "id": "581c2dc9",
   "metadata": {},
   "outputs": [],
   "source": []
  },
  {
   "cell_type": "code",
   "execution_count": null,
   "id": "d2d51584",
   "metadata": {},
   "outputs": [],
   "source": []
  }
 ],
 "metadata": {
  "kernelspec": {
   "display_name": "Python 3 (ipykernel)",
   "language": "python",
   "name": "python3"
  },
  "language_info": {
   "codemirror_mode": {
    "name": "ipython",
    "version": 3
   },
   "file_extension": ".py",
   "mimetype": "text/x-python",
   "name": "python",
   "nbconvert_exporter": "python",
   "pygments_lexer": "ipython3",
   "version": "3.9.7"
  }
 },
 "nbformat": 4,
 "nbformat_minor": 5
}
