{
 "cells": [
  {
   "cell_type": "code",
   "execution_count": 2,
   "id": "06d3a331",
   "metadata": {},
   "outputs": [
    {
     "name": "stdout",
     "output_type": "stream",
     "text": [
      "{'prediction': [1.9324084969611766], 'type_received': '250+10(028)'}\n"
     ]
    }
   ],
   "source": [
    "import requests\n",
    "\n",
    "form_data = {\n",
    "    \"TYPE\": \"250+10(028)\"\n",
    "}\n",
    "response = requests.post(\"http://localhost:5000/predict\", data=form_data)\n",
    "print(response.json())\n"
   ]
  },
  {
   "cell_type": "code",
   "execution_count": null,
   "id": "dbcf2e00",
   "metadata": {},
   "outputs": [],
   "source": []
  }
 ],
 "metadata": {
  "kernelspec": {
   "display_name": "Python 3 (ipykernel)",
   "language": "python",
   "name": "python3"
  },
  "language_info": {
   "codemirror_mode": {
    "name": "ipython",
    "version": 3
   },
   "file_extension": ".py",
   "mimetype": "text/x-python",
   "name": "python",
   "nbconvert_exporter": "python",
   "pygments_lexer": "ipython3",
   "version": "3.9.7"
  }
 },
 "nbformat": 4,
 "nbformat_minor": 5
}
